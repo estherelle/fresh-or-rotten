{
 "cells": [
  {
   "cell_type": "markdown",
   "metadata": {},
   "source": [
    "# Data Analysis"
   ]
  },
  {
   "cell_type": "markdown",
   "metadata": {},
   "source": [
    "## Import Packages"
   ]
  },
  {
   "cell_type": "code",
   "execution_count": 1,
   "metadata": {},
   "outputs": [],
   "source": [
    "%matplotlib inline\n",
    "import re\n",
    "import json\n",
    "import matplotlib\n",
    "import numpy as np\n",
    "import matplotlib.pyplot as plt\n",
    "import pandas as pd\n",
    "from sklearn.model_selection import train_test_split\n",
    "from sklearn.feature_extraction.text import TfidfVectorizer\n",
    "from sklearn.naive_bayes import MultinomialNB\n",
    "from sklearn.metrics import accuracy_score\n",
    "from sklearn.multiclass import OneVsRestClassifier\n",
    "from nltk.corpus import stopwords\n",
    "stop_words = set(stopwords.words('english'))\n",
    "from sklearn.svm import LinearSVC\n",
    "from sklearn.linear_model import LogisticRegression\n",
    "from sklearn.pipeline import Pipeline\n",
    "import seaborn as sns"
   ]
  },
  {
   "cell_type": "markdown",
   "metadata": {},
   "source": [
    "## Get Data"
   ]
  },
  {
   "cell_type": "code",
   "execution_count": 2,
   "metadata": {
    "scrolled": false
   },
   "outputs": [],
   "source": [
    "with open('movies_twenty.json') as f:\n",
    "    raw_data = json.load(f)"
   ]
  },
  {
   "cell_type": "markdown",
   "metadata": {},
   "source": [
    "Convert the list of reviews to a single string"
   ]
  },
  {
   "cell_type": "code",
   "execution_count": 3,
   "metadata": {},
   "outputs": [],
   "source": [
    "for a in raw_data:\n",
    "    string = \"\"\n",
    "    for review in a['Reviews']:\n",
    "        #print(review)\n",
    "        string += str(review) + \" \"\n",
    "    a['String'] = string"
   ]
  },
  {
   "cell_type": "markdown",
   "metadata": {},
   "source": [
    "Divide ratings based on catergories"
   ]
  },
  {
   "cell_type": "code",
   "execution_count": 4,
   "metadata": {},
   "outputs": [],
   "source": [
    "for a in raw_data:\n",
    "    rating = a['Audience Rating']\n",
    "    rating = rating.strip('%')\n",
    "    rating = int(rating)\n",
    "    if rating >= 75:\n",
    "        a['4'] = 1\n",
    "        a['3'] = 0\n",
    "        a['2'] = 0\n",
    "        a['1'] = 0\n",
    "    elif rating >= 50:\n",
    "        a['4'] = 0\n",
    "        a['3'] = 1\n",
    "        a['2'] = 0\n",
    "        a['1'] = 0\n",
    "    elif rating >= 25:\n",
    "        a['4'] = 0\n",
    "        a['3'] = 0\n",
    "        a['2'] = 1\n",
    "        a['1'] = 0\n",
    "    else:\n",
    "        a['4'] = 0\n",
    "        a['3'] = 0\n",
    "        a['2'] = 0\n",
    "        a['1'] = 1"
   ]
  },
  {
   "cell_type": "code",
   "execution_count": 5,
   "metadata": {},
   "outputs": [],
   "source": [
    "movie = raw_data[140]"
   ]
  },
  {
   "cell_type": "code",
   "execution_count": 6,
   "metadata": {},
   "outputs": [
    {
     "name": "stdout",
     "output_type": "stream",
     "text": [
      "0\n"
     ]
    }
   ],
   "source": [
    "print(movie['4'])"
   ]
  },
  {
   "cell_type": "markdown",
   "metadata": {},
   "source": [
    "# Data Frame"
   ]
  },
  {
   "cell_type": "code",
   "execution_count": 7,
   "metadata": {},
   "outputs": [],
   "source": [
    "data = pd.DataFrame(raw_data)"
   ]
  },
  {
   "cell_type": "code",
   "execution_count": 8,
   "metadata": {},
   "outputs": [
    {
     "data": {
      "text/html": [
       "<div>\n",
       "<style scoped>\n",
       "    .dataframe tbody tr th:only-of-type {\n",
       "        vertical-align: middle;\n",
       "    }\n",
       "\n",
       "    .dataframe tbody tr th {\n",
       "        vertical-align: top;\n",
       "    }\n",
       "\n",
       "    .dataframe thead th {\n",
       "        text-align: right;\n",
       "    }\n",
       "</style>\n",
       "<table border=\"1\" class=\"dataframe\">\n",
       "  <thead>\n",
       "    <tr style=\"text-align: right;\">\n",
       "      <th></th>\n",
       "      <th>1</th>\n",
       "      <th>2</th>\n",
       "      <th>3</th>\n",
       "      <th>4</th>\n",
       "      <th>Audience Rating</th>\n",
       "      <th>Reviews</th>\n",
       "      <th>String</th>\n",
       "      <th>Title</th>\n",
       "      <th>Tomatometer</th>\n",
       "      <th>Url</th>\n",
       "    </tr>\n",
       "  </thead>\n",
       "  <tbody>\n",
       "    <tr>\n",
       "      <th>0</th>\n",
       "      <td>0</td>\n",
       "      <td>0</td>\n",
       "      <td>0</td>\n",
       "      <td>1</td>\n",
       "      <td>98%</td>\n",
       "      <td>[This film was great., My all-time favourite m...</td>\n",
       "      <td>This film was great. My all-time favourite mov...</td>\n",
       "      <td>The Godfather</td>\n",
       "      <td>98%</td>\n",
       "      <td>https://www.rottentomatoes.com/m/godfather</td>\n",
       "    </tr>\n",
       "    <tr>\n",
       "      <th>1</th>\n",
       "      <td>0</td>\n",
       "      <td>0</td>\n",
       "      <td>0</td>\n",
       "      <td>1</td>\n",
       "      <td>95%</td>\n",
       "      <td>[Easily the best Christmas movie of all time. ...</td>\n",
       "      <td>Easily the best Christmas movie of all time. I...</td>\n",
       "      <td>It’s a Wonderful Life</td>\n",
       "      <td>93%</td>\n",
       "      <td>https://www.rottentomatoes.com/m/its_a_wonderf...</td>\n",
       "    </tr>\n",
       "    <tr>\n",
       "      <th>2</th>\n",
       "      <td>0</td>\n",
       "      <td>0</td>\n",
       "      <td>0</td>\n",
       "      <td>1</td>\n",
       "      <td>95%</td>\n",
       "      <td>[ONCE UPON A TIME IN THE WEST is a grand, poig...</td>\n",
       "      <td>ONCE UPON A TIME IN THE WEST is a grand, poign...</td>\n",
       "      <td>Once Upon A Time In The West</td>\n",
       "      <td>98%</td>\n",
       "      <td>https://www.rottentomatoes.com/m/once_upon_a_t...</td>\n",
       "    </tr>\n",
       "    <tr>\n",
       "      <th>3</th>\n",
       "      <td>0</td>\n",
       "      <td>0</td>\n",
       "      <td>0</td>\n",
       "      <td>1</td>\n",
       "      <td>95%</td>\n",
       "      <td>[Easily one of the best movies of all time. Fr...</td>\n",
       "      <td>Easily one of the best movies of all time. Fro...</td>\n",
       "      <td>Forrest Gump</td>\n",
       "      <td>73%</td>\n",
       "      <td>https://www.rottentomatoes.com/m/forrest_gump</td>\n",
       "    </tr>\n",
       "    <tr>\n",
       "      <th>4</th>\n",
       "      <td>0</td>\n",
       "      <td>0</td>\n",
       "      <td>0</td>\n",
       "      <td>1</td>\n",
       "      <td>95%</td>\n",
       "      <td>[I was blown away by Amelie even though there ...</td>\n",
       "      <td>I was blown away by Amelie even though there w...</td>\n",
       "      <td>Amélie</td>\n",
       "      <td>89%</td>\n",
       "      <td>https://www.rottentomatoes.com/m/amelie</td>\n",
       "    </tr>\n",
       "  </tbody>\n",
       "</table>\n",
       "</div>"
      ],
      "text/plain": [
       "   1  2  3  4 Audience Rating  \\\n",
       "0  0  0  0  1             98%   \n",
       "1  0  0  0  1             95%   \n",
       "2  0  0  0  1             95%   \n",
       "3  0  0  0  1             95%   \n",
       "4  0  0  0  1             95%   \n",
       "\n",
       "                                             Reviews  \\\n",
       "0  [This film was great., My all-time favourite m...   \n",
       "1  [Easily the best Christmas movie of all time. ...   \n",
       "2  [ONCE UPON A TIME IN THE WEST is a grand, poig...   \n",
       "3  [Easily one of the best movies of all time. Fr...   \n",
       "4  [I was blown away by Amelie even though there ...   \n",
       "\n",
       "                                              String  \\\n",
       "0  This film was great. My all-time favourite mov...   \n",
       "1  Easily the best Christmas movie of all time. I...   \n",
       "2  ONCE UPON A TIME IN THE WEST is a grand, poign...   \n",
       "3  Easily one of the best movies of all time. Fro...   \n",
       "4  I was blown away by Amelie even though there w...   \n",
       "\n",
       "                           Title Tomatometer  \\\n",
       "0                  The Godfather         98%   \n",
       "1          It’s a Wonderful Life         93%   \n",
       "2  Once Upon A Time In The West          98%   \n",
       "3                   Forrest Gump         73%   \n",
       "4                         Amélie         89%   \n",
       "\n",
       "                                                 Url  \n",
       "0         https://www.rottentomatoes.com/m/godfather  \n",
       "1  https://www.rottentomatoes.com/m/its_a_wonderf...  \n",
       "2  https://www.rottentomatoes.com/m/once_upon_a_t...  \n",
       "3      https://www.rottentomatoes.com/m/forrest_gump  \n",
       "4            https://www.rottentomatoes.com/m/amelie  "
      ]
     },
     "execution_count": 8,
     "metadata": {},
     "output_type": "execute_result"
    }
   ],
   "source": [
    "data.head()"
   ]
  },
  {
   "cell_type": "markdown",
   "metadata": {},
   "source": [
    "Drop all information that is not needed "
   ]
  },
  {
   "cell_type": "code",
   "execution_count": 9,
   "metadata": {},
   "outputs": [],
   "source": [
    "data.drop(['Reviews', 'Title', 'Audience Rating','Tomatometer','Url'], 1, inplace=True)"
   ]
  },
  {
   "cell_type": "code",
   "execution_count": 10,
   "metadata": {},
   "outputs": [
    {
     "data": {
      "text/html": [
       "<div>\n",
       "<style scoped>\n",
       "    .dataframe tbody tr th:only-of-type {\n",
       "        vertical-align: middle;\n",
       "    }\n",
       "\n",
       "    .dataframe tbody tr th {\n",
       "        vertical-align: top;\n",
       "    }\n",
       "\n",
       "    .dataframe thead th {\n",
       "        text-align: right;\n",
       "    }\n",
       "</style>\n",
       "<table border=\"1\" class=\"dataframe\">\n",
       "  <thead>\n",
       "    <tr style=\"text-align: right;\">\n",
       "      <th></th>\n",
       "      <th>1</th>\n",
       "      <th>2</th>\n",
       "      <th>3</th>\n",
       "      <th>4</th>\n",
       "      <th>String</th>\n",
       "    </tr>\n",
       "  </thead>\n",
       "  <tbody>\n",
       "    <tr>\n",
       "      <th>0</th>\n",
       "      <td>0</td>\n",
       "      <td>0</td>\n",
       "      <td>0</td>\n",
       "      <td>1</td>\n",
       "      <td>This film was great. My all-time favourite mov...</td>\n",
       "    </tr>\n",
       "    <tr>\n",
       "      <th>1</th>\n",
       "      <td>0</td>\n",
       "      <td>0</td>\n",
       "      <td>0</td>\n",
       "      <td>1</td>\n",
       "      <td>Easily the best Christmas movie of all time. I...</td>\n",
       "    </tr>\n",
       "    <tr>\n",
       "      <th>2</th>\n",
       "      <td>0</td>\n",
       "      <td>0</td>\n",
       "      <td>0</td>\n",
       "      <td>1</td>\n",
       "      <td>ONCE UPON A TIME IN THE WEST is a grand, poign...</td>\n",
       "    </tr>\n",
       "    <tr>\n",
       "      <th>3</th>\n",
       "      <td>0</td>\n",
       "      <td>0</td>\n",
       "      <td>0</td>\n",
       "      <td>1</td>\n",
       "      <td>Easily one of the best movies of all time. Fro...</td>\n",
       "    </tr>\n",
       "    <tr>\n",
       "      <th>4</th>\n",
       "      <td>0</td>\n",
       "      <td>0</td>\n",
       "      <td>0</td>\n",
       "      <td>1</td>\n",
       "      <td>I was blown away by Amelie even though there w...</td>\n",
       "    </tr>\n",
       "  </tbody>\n",
       "</table>\n",
       "</div>"
      ],
      "text/plain": [
       "   1  2  3  4                                             String\n",
       "0  0  0  0  1  This film was great. My all-time favourite mov...\n",
       "1  0  0  0  1  Easily the best Christmas movie of all time. I...\n",
       "2  0  0  0  1  ONCE UPON A TIME IN THE WEST is a grand, poign...\n",
       "3  0  0  0  1  Easily one of the best movies of all time. Fro...\n",
       "4  0  0  0  1  I was blown away by Amelie even though there w..."
      ]
     },
     "execution_count": 10,
     "metadata": {},
     "output_type": "execute_result"
    }
   ],
   "source": [
    "data.head()"
   ]
  },
  {
   "cell_type": "markdown",
   "metadata": {},
   "source": [
    "Exploratory Data Analysis"
   ]
  },
  {
   "cell_type": "code",
   "execution_count": 11,
   "metadata": {},
   "outputs": [
    {
     "data": {
      "text/html": [
       "<div>\n",
       "<style scoped>\n",
       "    .dataframe tbody tr th:only-of-type {\n",
       "        vertical-align: middle;\n",
       "    }\n",
       "\n",
       "    .dataframe tbody tr th {\n",
       "        vertical-align: top;\n",
       "    }\n",
       "\n",
       "    .dataframe thead th {\n",
       "        text-align: right;\n",
       "    }\n",
       "</style>\n",
       "<table border=\"1\" class=\"dataframe\">\n",
       "  <thead>\n",
       "    <tr style=\"text-align: right;\">\n",
       "      <th></th>\n",
       "      <th>category</th>\n",
       "      <th>number_of_comments</th>\n",
       "    </tr>\n",
       "  </thead>\n",
       "  <tbody>\n",
       "    <tr>\n",
       "      <th>0</th>\n",
       "      <td>1</td>\n",
       "      <td>6</td>\n",
       "    </tr>\n",
       "    <tr>\n",
       "      <th>1</th>\n",
       "      <td>2</td>\n",
       "      <td>48</td>\n",
       "    </tr>\n",
       "    <tr>\n",
       "      <th>2</th>\n",
       "      <td>3</td>\n",
       "      <td>44</td>\n",
       "    </tr>\n",
       "    <tr>\n",
       "      <th>3</th>\n",
       "      <td>4</td>\n",
       "      <td>47</td>\n",
       "    </tr>\n",
       "  </tbody>\n",
       "</table>\n",
       "</div>"
      ],
      "text/plain": [
       "  category  number_of_comments\n",
       "0        1                   6\n",
       "1        2                  48\n",
       "2        3                  44\n",
       "3        4                  47"
      ]
     },
     "execution_count": 11,
     "metadata": {},
     "output_type": "execute_result"
    }
   ],
   "source": [
    "df = data.drop(['String'], axis=1)\n",
    "counts = []\n",
    "categories = list(df.columns.values)\n",
    "for i in categories:\n",
    "    counts.append((i, df[i].sum()))\n",
    "df_stats = pd.DataFrame(counts, columns=['category', 'number_of_comments'])\n",
    "df_stats"
   ]
  },
  {
   "cell_type": "code",
   "execution_count": 12,
   "metadata": {},
   "outputs": [
    {
     "data": {
      "text/plain": [
       "([<matplotlib.axis.XTick at 0x1a1a5c9128>,\n",
       "  <matplotlib.axis.XTick at 0x1a1a5c9cc0>,\n",
       "  <matplotlib.axis.XTick at 0x1a1a5eff28>,\n",
       "  <matplotlib.axis.XTick at 0x1a1a5efeb8>],\n",
       " <a list of 4 Text xticklabel objects>)"
      ]
     },
     "execution_count": 12,
     "metadata": {},
     "output_type": "execute_result"
    },
    {
     "data": {
      "image/png": "[encoded data removed]",
      "text/plain": [
       "<matplotlib.figure.Figure at 0x1a1a2d7940>"
      ]
     },
     "metadata": {},
     "output_type": "display_data"
    }
   ],
   "source": [
    "df_stats.plot(x='category', y='number_of_comments', kind='bar', legend=False, grid=True, figsize=(8, 5))\n",
    "plt.title(\"Audience Rating Cateegory Distribution\")\n",
    "plt.ylabel('# of Occurrences', fontsize=12)\n",
    "plt.xlabel('Ratings', fontsize=12)\n",
    "plt.xticks(np.arange(4),('0-25', '26-50', '51-75','76-100'))"
   ]
  },
  {
   "cell_type": "markdown",
   "metadata": {},
   "source": [
    "Ensuring that every element has a classification"
   ]
  },
  {
   "cell_type": "code",
   "execution_count": 13,
   "metadata": {},
   "outputs": [
    {
     "name": "stdout",
     "output_type": "stream",
     "text": [
      "Number of missing comments in comment text:\n"
     ]
    },
    {
     "data": {
      "text/plain": [
       "0"
      ]
     },
     "execution_count": 13,
     "metadata": {},
     "output_type": "execute_result"
    }
   ],
   "source": [
    "print('Number of missing comments in comment text:')\n",
    "data['String'].isnull().sum()"
   ]
  },
  {
   "cell_type": "markdown",
   "metadata": {},
   "source": [
    "### Lower Case"
   ]
  },
  {
   "cell_type": "code",
   "execution_count": 14,
   "metadata": {},
   "outputs": [
    {
     "data": {
      "text/plain": [
       "0    this film was great. my all-time favourite mov...\n",
       "1    easily the best christmas movie of all time. i...\n",
       "2    once upon a time in the west is a grand, poign...\n",
       "3    easily one of the best movies of all time. fro...\n",
       "4    i was blown away by amelie even though there w...\n",
       "Name: String, dtype: object"
      ]
     },
     "execution_count": 14,
     "metadata": {},
     "output_type": "execute_result"
    }
   ],
   "source": [
    "data['String'] = data['String'].apply(lambda x: \" \".join(x.lower() for x in x.split()))\n",
    "data['String'].head()"
   ]
  },
  {
   "cell_type": "markdown",
   "metadata": {},
   "source": [
    "### Strip numbers"
   ]
  },
  {
   "cell_type": "code",
   "execution_count": 15,
   "metadata": {},
   "outputs": [
    {
     "data": {
      "text/plain": [
       "0    this film was great my alltime favourite movie...\n",
       "1    easily the best christmas movie of all time it...\n",
       "2    once upon a time in the west is a grand poigna...\n",
       "3    easily one of the best movies of all time from...\n",
       "4    i was blown away by amelie even though there w...\n",
       "Name: String, dtype: object"
      ]
     },
     "execution_count": 15,
     "metadata": {},
     "output_type": "execute_result"
    }
   ],
   "source": [
    "data['String'] = data['String'].str.replace('[^\\w\\s]','')\n",
    "data['String'].head()  "
   ]
  },
  {
   "cell_type": "markdown",
   "metadata": {},
   "source": [
    "### Stop Words"
   ]
  },
  {
   "cell_type": "code",
   "execution_count": 16,
   "metadata": {},
   "outputs": [],
   "source": [
    "from nltk.corpus import stopwords\n",
    "stop = stopwords.words('english')"
   ]
  },
  {
   "cell_type": "code",
   "execution_count": 17,
   "metadata": {},
   "outputs": [
    {
     "data": {
      "text/plain": [
       "0    film great alltime favourite movie intense loo...\n",
       "1    easily best christmas movie time movie watch c...\n",
       "2    upon time west grand poignant gloriously epic ...\n",
       "3    easily one best movies time brilliant cast pow...\n",
       "4    blown away amelie even though substantial hype...\n",
       "Name: String, dtype: object"
      ]
     },
     "execution_count": 17,
     "metadata": {},
     "output_type": "execute_result"
    }
   ],
   "source": [
    "data['String'] = data['String'].apply(lambda x: \" \".join(x for x in x.split() if x not in stop))\n",
    "data['String'].head() "
   ]
  },
  {
   "cell_type": "markdown",
   "metadata": {},
   "source": [
    "### Rare words"
   ]
  },
  {
   "cell_type": "code",
   "execution_count": 18,
   "metadata": {},
   "outputs": [],
   "source": [
    "freq = pd.Series(' '.join(data['String']).split()).value_counts()[-50:]"
   ]
  },
  {
   "cell_type": "code",
   "execution_count": 19,
   "metadata": {},
   "outputs": [
    {
     "data": {
      "text/plain": [
       "0    film great alltime favourite movie intense loo...\n",
       "1    easily best christmas movie time movie watch c...\n",
       "2    upon time west grand poignant gloriously epic ...\n",
       "3    easily one best movies time brilliant cast pow...\n",
       "4    blown away amelie even though substantial hype...\n",
       "Name: String, dtype: object"
      ]
     },
     "execution_count": 19,
     "metadata": {},
     "output_type": "execute_result"
    }
   ],
   "source": [
    "freq = list(freq.index)\n",
    "data['String'] = data['String'].apply(lambda x: \" \".join(x for x in x.split() if x not in freq))\n",
    "data['String'].head()"
   ]
  },
  {
   "cell_type": "markdown",
   "metadata": {},
   "source": [
    "### Lemmatization"
   ]
  },
  {
   "cell_type": "code",
   "execution_count": 20,
   "metadata": {},
   "outputs": [
    {
     "data": {
      "text/plain": [
       "0    film great alltime favourite movie intense loo...\n",
       "1    easily best christmas movie time movie watch c...\n",
       "2    upon time west grand poignant gloriously epic ...\n",
       "3    easily one best movie time brilliant cast powe...\n",
       "4    blown away amelie even though substantial hype...\n",
       "Name: String, dtype: object"
      ]
     },
     "execution_count": 20,
     "metadata": {},
     "output_type": "execute_result"
    }
   ],
   "source": [
    "from textblob import Word\n",
    "data['String'] = data['String'].apply(lambda x: \" \".join([Word(word).lemmatize() for word in x.split()]))\n",
    "data['String'].head()"
   ]
  },
  {
   "cell_type": "markdown",
   "metadata": {},
   "source": [
    "## Divide Data into Training and Testing"
   ]
  },
  {
   "cell_type": "code",
   "execution_count": 21,
   "metadata": {},
   "outputs": [
    {
     "name": "stdout",
     "output_type": "stream",
     "text": [
      "(97,)\n",
      "(48,)\n"
     ]
    }
   ],
   "source": [
    "categories = ['1', '2', '3', '4']\n",
    "train, test = train_test_split(data, random_state=42, test_size=0.33, shuffle=True)\n",
    "X_train = train.String\n",
    "X_test = test.String\n",
    "print(X_train.shape)\n",
    "print(X_test.shape)"
   ]
  },
  {
   "cell_type": "markdown",
   "metadata": {},
   "source": [
    "## Bulding the Classifiers"
   ]
  },
  {
   "cell_type": "markdown",
   "metadata": {},
   "source": [
    "Define a pipeline combining a text feature extractor with multi lable classifier"
   ]
  },
  {
   "cell_type": "code",
   "execution_count": 22,
   "metadata": {},
   "outputs": [
    {
     "name": "stdout",
     "output_type": "stream",
     "text": [
      "... Processing 1\n",
      "Test accuracy is 0.9375\n",
      "... Processing 2\n",
      "Test accuracy is 0.6666666666666666\n",
      "... Processing 3\n",
      "Test accuracy is 0.75\n",
      "... Processing 4\n",
      "Test accuracy is 0.6458333333333334\n"
     ]
    }
   ],
   "source": [
    "NB_pipeline = Pipeline([\n",
    "                ('tfidf', TfidfVectorizer(stop_words=stop_words)),\n",
    "                ('clf', OneVsRestClassifier(MultinomialNB(\n",
    "                    fit_prior=True, class_prior=None))),\n",
    "            ])\n",
    "for category in categories:\n",
    "    print('... Processing {}'.format(category))\n",
    "    # train the model using X_dtm & y\n",
    "    NB_pipeline.fit(X_train, train[category])\n",
    "    # compute the testing accuracy\n",
    "    prediction = NB_pipeline.predict(X_test)\n",
    "    print('Test accuracy is {}'.format(accuracy_score(test[category], prediction)))"
   ]
  },
  {
   "cell_type": "code",
   "execution_count": 23,
   "metadata": {},
   "outputs": [
    {
     "name": "stdout",
     "output_type": "stream",
     "text": [
      "... Processing 1\n",
      "Test accuracy is 0.9375\n",
      "... Processing 2\n",
      "Test accuracy is 0.6666666666666666\n",
      "... Processing 3\n",
      "Test accuracy is 0.75\n",
      "... Processing 4\n",
      "Test accuracy is 0.7708333333333334\n"
     ]
    }
   ],
   "source": [
    "SVC_pipeline = Pipeline([\n",
    "                ('tfidf', TfidfVectorizer(stop_words=stop_words)),\n",
    "                ('clf', OneVsRestClassifier(LinearSVC(), n_jobs=1)),\n",
    "            ])\n",
    "for category in categories:\n",
    "    print('... Processing {}'.format(category))\n",
    "    # train the model using X_dtm & y\n",
    "    SVC_pipeline.fit(X_train, train[category])\n",
    "    # compute the testing accuracy\n",
    "    prediction = SVC_pipeline.predict(X_test)\n",
    "    print('Test accuracy is {}'.format(accuracy_score(test[category], prediction)))\n"
   ]
  },
  {
   "cell_type": "code",
   "execution_count": 24,
   "metadata": {},
   "outputs": [
    {
     "name": "stdout",
     "output_type": "stream",
     "text": [
      "... Processing 1\n"
     ]
    },
    {
     "name": "stderr",
     "output_type": "stream",
     "text": [
      "/Users/nikki/anaconda3/lib/python3.6/site-packages/sklearn/linear_model/sag.py:326: ConvergenceWarning: The max_iter was reached which means the coef_ did not converge\n",
      "  \"the coef_ did not converge\", ConvergenceWarning)\n"
     ]
    },
    {
     "name": "stdout",
     "output_type": "stream",
     "text": [
      "Test accuracy is 0.9375\n",
      "... Processing 2\n",
      "Test accuracy is 0.6666666666666666\n",
      "... Processing 3\n",
      "Test accuracy is 0.75\n",
      "... Processing 4\n",
      "Test accuracy is 0.6458333333333334\n"
     ]
    }
   ],
   "source": [
    "LogReg_pipeline = Pipeline([\n",
    "                ('tfidf', TfidfVectorizer(stop_words=stop_words)),\n",
    "                ('clf', OneVsRestClassifier(LogisticRegression(solver='sag'), n_jobs=1)),\n",
    "            ])\n",
    "for category in categories:\n",
    "    print('... Processing {}'.format(category))\n",
    "    # train the model using X_dtm & y\n",
    "    LogReg_pipeline.fit(X_train, train[category])\n",
    "    # compute the testing accuracy\n",
    "    prediction = LogReg_pipeline.predict(X_test)\n",
    "    print('Test accuracy is {}'.format(accuracy_score(test[category], prediction)))"
   ]
  }
 ],
 "metadata": {
  "kernelspec": {
   "display_name": "Python 3",
   "language": "python",
   "name": "python3"
  },
  "language_info": {
   "codemirror_mode": {
    "name": "ipython",
    "version": 3
   },
   "file_extension": ".py",
   "mimetype": "text/x-python",
   "name": "python",
   "nbconvert_exporter": "python",
   "pygments_lexer": "ipython3",
   "version": "3.6.4"
  }
 },
 "nbformat": 4,
 "nbformat_minor": 2
}
