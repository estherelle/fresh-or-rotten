{
 "cells": [
  {
   "cell_type": "code",
   "execution_count": 1,
   "metadata": {},
   "outputs": [],
   "source": [
    "from score import RTScore, AudienceReviews, TextReviews\n",
    "import csv\n",
    "import json"
   ]
  },
  {
   "cell_type": "code",
   "execution_count": 23,
   "metadata": {},
   "outputs": [],
   "source": [
    "import pandas as pd \n",
    "df = pd.read_table(\"Movies_working.csv\", sep= ',')"
   ]
  },
  {
   "cell_type": "code",
   "execution_count": 46,
   "metadata": {},
   "outputs": [
    {
     "name": "stdout",
     "output_type": "stream",
     "text": [
      "129.  It's Pat \n",
      "130. Supergirl\n",
      "131.  National Lampoon Presents Dorm Daze\n",
      "132. Halloween (2007) \n",
      "133. Home Alone 2: Lost in New York (1992)\n",
      "134. JOHN CARPENTER'S Ghosts of Mars\n",
      "135. Bad Boys II (2003)\n",
      "136. The Boondock Saints (1999)\n",
      "137. Dungeons & Dragons \n",
      "138. Dude, Where's My Car? (2000)\n",
      "139. Fantastic Four (2015)\n",
      "140. Inspector Gadget \n",
      "141.  Catwoman\n",
      "142. Jingle All The Way (1996)\n",
      "143.  Caddyshack II\n",
      "144. Grandma's Boy (2006)\n",
      "145.  Jaws: The Revenge\n"
     ]
    }
   ],
   "source": [
    "myfile = open('movies_ten.json', 'a')\n",
    "# myfile.write('[')\n",
    "# for i in range(69, len(df)):\n",
    "# for i in range(87, len(df)):\n",
    "# for i in range(93, len(df)):\n",
    "# for i in range(128, len(df)):\n",
    "for i in range(129, len(df)):\n",
    "    print(\"%d. %s\" %(i, df.iloc[i]['Movie']))\n",
    "    url = df.iloc[i]['URL']\n",
    "    page = RTScore(url)\n",
    "    critic_score = page.criticScore()\n",
    "    audience_score = page.audienceScore()\n",
    "    \n",
    "    review_url = page.getReviewUrl()\n",
    "    \n",
    "    text_reviews = TextReviews(review_url, 11)\n",
    "    reviews = text_reviews.getReviews()\n",
    "    \n",
    "    likeability = \"\"\n",
    "    \n",
    "    a_score = audience_score\n",
    "    audience_score = audience_score.split(\"%\")[0]\n",
    "    audience_score = int(audience_score)\n",
    "    \n",
    "    if audience_score > 75:\n",
    "        likeability = \"76 - 100\"\n",
    "    elif audience_score > 50:\n",
    "        likeability = \"51 - 75\"\n",
    "    elif audience_score > 25:\n",
    "        likeability = \"26 - 50\"\n",
    "    else:\n",
    "        likeability = \"0 - 25\"\n",
    "        \n",
    "\n",
    "    info = {\n",
    "        \"Title\": df.iloc[i]['Movie'],\n",
    "        \"Tomatometer\": critic_score,\n",
    "        \"Audience Rating\": a_score,\n",
    "        \"Quartile\": likeability,\n",
    "        \"Url\": df.iloc[i]['URL'],\n",
    "        \"Reviews\": reviews\n",
    "    }\n",
    "    myfile.write(json.dumps(info, indent=4))\n",
    "    myfile.write(',\\n')\n",
    "\n",
    "myfile.write(']')\n",
    "\n",
    "myfile.close()"
   ]
  },
  {
   "cell_type": "code",
   "execution_count": 11,
   "metadata": {},
   "outputs": [
    {
     "data": {
      "text/plain": [
       "Movie                                      Horrible Bosses\n",
       "Rating                                                  70\n",
       "URL       https://www.rottentomatoes.com/m/horrible_bosses\n",
       "Name: 51, dtype: object"
      ]
     },
     "execution_count": 11,
     "metadata": {},
     "output_type": "execute_result"
    }
   ],
   "source": [
    "df.iloc[51]"
   ]
  },
  {
   "cell_type": "code",
   "execution_count": 40,
   "metadata": {},
   "outputs": [
    {
     "data": {
      "text/plain": [
       "Movie                                      Lawless Range\n",
       "Rating                                                43\n",
       "URL       https://www.rottentomatoes.com/m/lawless_range\n",
       "Name: 86, dtype: object"
      ]
     },
     "execution_count": 40,
     "metadata": {},
     "output_type": "execute_result"
    }
   ],
   "source": [
    "df.iloc[86]"
   ]
  },
  {
   "cell_type": "raw",
   "metadata": {},
   "source": []
  }
 ],
 "metadata": {
  "kernelspec": {
   "display_name": "Python [conda env:py36]",
   "language": "python",
   "name": "conda-env-py36-py"
  },
  "language_info": {
   "codemirror_mode": {
    "name": "ipython",
    "version": 3
   },
   "file_extension": ".py",
   "mimetype": "text/x-python",
   "name": "python",
   "nbconvert_exporter": "python",
   "pygments_lexer": "ipython3",
   "version": "3.6.6"
  }
 },
 "nbformat": 4,
 "nbformat_minor": 2
}
