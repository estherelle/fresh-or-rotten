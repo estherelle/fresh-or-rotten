{
 "cells": [
  {
   "cell_type": "code",
   "execution_count": 1,
   "metadata": {},
   "outputs": [],
   "source": [
    "from bs4 import BeautifulSoup\n",
    "import requests"
   ]
  },
  {
   "cell_type": "code",
   "execution_count": 2,
   "metadata": {},
   "outputs": [],
   "source": [
    "meter = \"audience-score meter\""
   ]
  },
  {
   "cell_type": "code",
   "execution_count": 3,
   "metadata": {},
   "outputs": [],
   "source": [
    "base = \"https://www.rottentomatoes.com/m/titanic/\""
   ]
  },
  {
   "cell_type": "code",
   "execution_count": 4,
   "metadata": {},
   "outputs": [],
   "source": [
    "from score import RTScore, AudienceReviews, TextReviews"
   ]
  },
  {
   "cell_type": "code",
   "execution_count": 5,
   "metadata": {},
   "outputs": [],
   "source": [
    "titanic = RTScore(base)"
   ]
  },
  {
   "cell_type": "code",
   "execution_count": 6,
   "metadata": {},
   "outputs": [
    {
     "data": {
      "text/plain": [
       "'69%'"
      ]
     },
     "execution_count": 6,
     "metadata": {},
     "output_type": "execute_result"
    }
   ],
   "source": [
    "titanic.audienceScore()"
   ]
  },
  {
   "cell_type": "code",
   "execution_count": 7,
   "metadata": {},
   "outputs": [],
   "source": [
    "r_url = titanic.getReviewUrl()"
   ]
  },
  {
   "cell_type": "code",
   "execution_count": 13,
   "metadata": {},
   "outputs": [
    {
     "data": {
      "text/plain": [
       "'89%'"
      ]
     },
     "execution_count": 13,
     "metadata": {},
     "output_type": "execute_result"
    }
   ],
   "source": [
    "titanic.criticScore()"
   ]
  },
  {
   "cell_type": "code",
   "execution_count": 8,
   "metadata": {},
   "outputs": [],
   "source": [
    "s = titanic.soup"
   ]
  },
  {
   "cell_type": "code",
   "execution_count": 10,
   "metadata": {},
   "outputs": [
    {
     "data": {
      "text/plain": [
       "<span class=\"meter-value superPageFontColor\"><span>89</span>%</span>"
      ]
     },
     "execution_count": 10,
     "metadata": {},
     "output_type": "execute_result"
    }
   ],
   "source": [
    "meter = \"meter-value superPageFontColor\"\n",
    "s.find('span', {'class': meter})"
   ]
  },
  {
   "cell_type": "code",
   "execution_count": 11,
   "metadata": {},
   "outputs": [],
   "source": [
    "a = s.find('span', {'class': meter})"
   ]
  },
  {
   "cell_type": "code",
   "execution_count": 12,
   "metadata": {},
   "outputs": [
    {
     "data": {
      "text/plain": [
       "'89%'"
      ]
     },
     "execution_count": 12,
     "metadata": {},
     "output_type": "execute_result"
    }
   ],
   "source": [
    "a.text"
   ]
  },
  {
   "cell_type": "code",
   "execution_count": 8,
   "metadata": {},
   "outputs": [],
   "source": [
    "reviews = AudienceReviews(r_url)"
   ]
  },
  {
   "cell_type": "code",
   "execution_count": 9,
   "metadata": {},
   "outputs": [
    {
     "data": {
      "text/plain": [
       "'https://www.rottentomatoes.com/m/titanic/reviews/?page=2&type=user&sort='"
      ]
     },
     "execution_count": 9,
     "metadata": {},
     "output_type": "execute_result"
    }
   ],
   "source": [
    "reviews.nextPage()"
   ]
  },
  {
   "cell_type": "code",
   "execution_count": 10,
   "metadata": {},
   "outputs": [
    {
     "name": "stdout",
     "output_type": "stream",
     "text": [
      "<score.AudienceReviews object at 0x105dd4588>\n"
     ]
    }
   ],
   "source": [
    "print(reviews)"
   ]
  },
  {
   "cell_type": "code",
   "execution_count": 18,
   "metadata": {},
   "outputs": [],
   "source": [
    "r = TextReviews(r_url, 2)"
   ]
  },
  {
   "cell_type": "code",
   "execution_count": 19,
   "metadata": {},
   "outputs": [],
   "source": [
    "arr = r.getReviews()"
   ]
  },
  {
   "cell_type": "code",
   "execution_count": 21,
   "metadata": {},
   "outputs": [
    {
     "data": {
      "text/plain": [
       "\"titanic is one of the best romance movie I've ever watch. cinematography, story, acting is realistic and classic.\""
      ]
     },
     "execution_count": 21,
     "metadata": {},
     "output_type": "execute_result"
    }
   ],
   "source": [
    "arr[-1]"
   ]
  },
  {
   "cell_type": "code",
   "execution_count": 23,
   "metadata": {},
   "outputs": [],
   "source": [
    "r = TextReviews(\"https://www.rottentomatoes.com/m/sound_of_noise/reviews/?type=user\", 10)"
   ]
  },
  {
   "cell_type": "code",
   "execution_count": 24,
   "metadata": {},
   "outputs": [],
   "source": [
    "arr = r.getReviews()"
   ]
  },
  {
   "cell_type": "code",
   "execution_count": 27,
   "metadata": {},
   "outputs": [
    {
     "data": {
      "text/plain": [
       "\"Le concept est original mais ne tient pas les 1h40 de film. De plus, beaucoup trop d'incohÃ (C)rences scÃ (C)naristique viennent polluer le film.Dommage\""
      ]
     },
     "execution_count": 27,
     "metadata": {},
     "output_type": "execute_result"
    }
   ],
   "source": [
    "arr[-1]"
   ]
  },
  {
   "cell_type": "code",
   "execution_count": 11,
   "metadata": {},
   "outputs": [],
   "source": [
    "s = reviews.getSoup()"
   ]
  },
  {
   "cell_type": "code",
   "execution_count": 14,
   "metadata": {},
   "outputs": [],
   "source": [
    "soup = reviews.curSoup"
   ]
  },
  {
   "cell_type": "code",
   "execution_count": 19,
   "metadata": {},
   "outputs": [],
   "source": [
    "rev = c"
   ]
  },
  {
   "cell_type": "code",
   "execution_count": 38,
   "metadata": {},
   "outputs": [],
   "source": [
    "rev;"
   ]
  },
  {
   "cell_type": "code",
   "execution_count": 27,
   "metadata": {},
   "outputs": [],
   "source": [
    "a = rev\n",
    "b = a"
   ]
  },
  {
   "cell_type": "code",
   "execution_count": 37,
   "metadata": {},
   "outputs": [
    {
     "name": "stdout",
     "output_type": "stream",
     "text": [
      "1.this film was pathetic, boring , is much to long,I sleep when Rose want jump the boards. The music is verybad because Céline Dion sings badly. Léonardo Di Caprio is ugly,he act badly, he don't want with Rose. I was angry because it was a bad film.\n",
      "2.Titanic is the most beautiful movie I have ever seen! This movie is powerful, sad, lovely, with innovation, it's intense.this movie is realy perfect!And the moviemaker, James Cameron was done an amazing work.The Celin Dion's song is beautiful, powerful moving. The actors are amazing too, they playing very well. Leonardo is very very beautiful. The end is horrible, sad, heartbreaking. But this movie is to long.\n",
      "3.Moving and gripping experience.\n",
      "4.Titanic is world famous. The film that broke every box office record on release and wore the box office champion crown for many years(until it was overtaken by Jim Cameronï¿ 1/2 1/2(TM)s Avatar) is special because not only does it showcase the Titanic disaster in all its glory the film is a technical achievement of the highest order. The sinking sequence is astonishing and it feels like you are watching the actual ship sink. The characters and actors are amazing and even with a large running length you never dare look at the watch. James Cameron is a master director and Titanic is his stamp of authority. (James Cameron's Titanic is a masterpiece and a tour de force of filmmaking).\n",
      "5.Beautiful just beautiful, a great movie with drama, romance, you get emotionally attached to the characters that when something happens your just waiting to see what happens next but hopping for the best. It represents what happened historically in real life but with adding a story to it. When tragedy strucks your seeing everything that is happening to the people sorry for them, what is happening to them and hoping for the best especially for the main characters.\n",
      "6.Titanic is world famous. The film that broke every box office record on release and wore the box office champion crown for many years(until it was overtaken by Jim Cameron's Avatar) is special because not only does it showcase the Titanic disaster in all its glory the film is a technical achievement of the highest order. The sinking sequence is astonishing and it feels like you are watching the actual ship sink. The characters and actors are amazing and even with a large running length you never dare look at the watch. James Cameron is a master director and Titanic is his stamp of authority.\n",
      "7.\"Titanic\" não é assim tão bom como dizem, na minha opinião. Algumas cenas não são assim tão realistas e são estranhas, outras, são intensas e profundas.\n",
      "8.BEST ROMANCE OF ALL TIME OK. OVERALL, ITS ONE OF THE MOVIES OF ALL TIME AS WELL.\n",
      "9.Titanic is simply one of the best and one of my most favorite films ever. ? Have watched thousand times already on my boxxy software\n",
      "10.James Camerons Titanic is one of the best movies that I have ever seen in my life. Let's start this off with the fact that I am a huge fan of the Titanic. Not as much of a fan as Bill Paxton's character, but still a fan. I find it astounding how this ship sank and the stories of the passengers: what their experiences were when the ship sank and how the boat sank. For this reason, I found my jaw dropped during the \"Iceberg, right ahead!\" sequence of the movie and during the view where one of the lifeboats almost smashes the other boat and its people; during the \"Nearer my God to Thee\" scene and after. I wasn't able to eat my popcorn during these scenes, because Cameron made it so real and made us sympathize for all of the people that died on the ship. Let's talk about the love story in the movie between Leonardo DiCaprio's character and Kate Winslet's character. I bought every second of it. When they first met, I thought it was one of the best scenes, since Jack (DiCaprio) was able to convince Rose (Winslet) not to jump off. You have to be really good with words if you're able to convince someone not to commit suicide. Yes the dialogue between them was sometimes corny, but in the movie, the characters are supposed to be teenagers, so it makes sense that the conversation are corny. (SPOILER WARNING) I cried when Jack died since we spent so much time with him and Rose. It's so sad when you see Jack sinking to the bottom of the ocean that it will make you cry so bad. Billy Zane was such a douchebag! In the beginning, he doesn't really show this, but after the scene at breakfast with him and Rose where he literally flips the table, you start to dislike him more and more, until you're glad that he died, which was the case for me, but probably not for other people. (SPOILER WARNING) When he grabs Lovejoy's (David Warner) gun and tries to shoot Jack, I wanted him dead. He was that much of a douche.So yeah. Titanic is a really good movie. You should definitely try to pick up a copy if you can. It's worth the money.\n",
      "11.Kate Winslet has put forward one of the most amazing performances. Leonardo is fantastic as well. And who can forget Gloria Stuart. This one is James cameron's masterpiece. One of the most iconic and popular movies ever. Loved it.\n",
      "12.Por mucho Titanic es una de las historias de amor mas aclamadas por el publico en general, su impecable envolvimiento logra crear una conexión interesante entre espectador y personajes ,es una de las ejecuciones mas acertadas de James Cameron.\n",
      "13.Great movie, a little long though...\n",
      "14.JAMES CAMERON'S \"TITANIC\" (1997 BLOCKBUSTER FILM)'S A GOOD MOVIE, TOO. BUT WHEN I WAS 8 YEARS OLD, ME & MY FAMILY USED TO WATCH IT SOMETIME.\n",
      "15.James Cameron strikes again! Everything in Titanic works so well. Romance with the setting of the sinking of the Titanic really leaves an impact with people. It kind of made the actual event more relatable for the audience. Talented actors Kate and Leo have a great chemistry together. This movie meant so much for the film industry and will go down in history with a big legacy behind it.\n",
      "16.The most romantic movie I've ever seen. Worthy of his 11 Oscars.\n",
      "17.Titanic is world famous. The film that broke every box office record on release and wore the box office champion crown for many years(until it was overtaken by Jim Cameron's Avatar) is special because not only does it showcase the Titanic disaster in all its glory the film is a technical achievement of the highest order. The sinking sequence is astonishing and it feels like you are watching the actual ship sink. The characters and actors are amazing and even with a large running length you never dare look at the watch. James Cameron is a master director and Titanic is his stamp of authority.\n",
      "18.Out of all the disaster movies this is by far the best one ever. Has the best disaster scenes ever in cinema history. The story was compelling, interesting and sad all at the same time.\n",
      "19.I didn't like the movie in the least. However, it doesn't tell a bad romance story (Even though it uses just about every single cliche possible.)Certain parts of the movie are slow and boring but that's mostly unavoidable in a romance story.The movie paints Rose as this pure character but, frankly, she's kind of a stuck up snob (even after meeting Jack.) I don't understand these stories at all. Rose and Jack just met and she's willing to give up everything for the guy. Romeo and Juliet is the same way. At the end of the movie Jack sacrifices his life for Rose (Even though there's still plenty of room on the thing Rose in on. I won't even go into the fact of how selfish Rose is being.) Any normal person, even Jack who's \"in love\" with Rose would just hang out on the edge of the thing until he dies.While I hated the movie that doesn't mean it's bad.\n",
      "20.While some of the intensity of the last 90 minutes is underwhelmed by the fact that fragile women began constantly sobbing about poor Jack's fate, that doesn't change the fact that Titanic is still a well-done grand epic. People like to consider James Cameron overrated because he's a good director but a bad writer. I don't think the script is that bad. Needs some patching up here and there but I didn't find the dialogue cringy or anything (though there is an asshole who sends himself and his son drowning just TO RETRIEVE HIS LUGGAGE. How dare Rose try to save the poor kid?). The romantic aspects are decent enough but when we get to my favourite actor in the movie, the iceberg, that's when things become frightening. Can you imagine if you boarded a ship and it hit something that was going to lead it to sink and there are only enough lifeboats for half of the passengers because apparently Thanos was the ship's architect? I ally myself with the people with the superstitious belief that it only sunk because some idiot made a blasphemous boast. Grand visuals, tons of memorable scenes, good performances and a beautifully recreated model of the ship with a terrifyingly realistic depiction of the ship sinking to boot, I'd just like to say: James Cameron, it has been a privilege watching your movie.\n"
     ]
    }
   ],
   "source": [
    "i = 1\n",
    "while c:\n",
    "    print(\"%d. %s\" %(i, c.text.strip()))\n",
    "    c = c.findNext('div', {'class': 'user_review'})\n",
    "    i += 1"
   ]
  },
  {
   "cell_type": "code",
   "execution_count": 36,
   "metadata": {},
   "outputs": [],
   "source": [
    "c = rev.findNext('div', {'class': 'user_review'})"
   ]
  },
  {
   "cell_type": "code",
   "execution_count": 26,
   "metadata": {},
   "outputs": [
    {
     "data": {
      "text/plain": [
       "\"this film was pathetic, boring , is much to long,I sleep when Rose want jump the boards. The music is verybad because Céline Dion sings badly. Léonardo Di Caprio is ugly,he act badly, he don't want with Rose. I was angry because it was a bad film.\""
      ]
     },
     "execution_count": 26,
     "metadata": {},
     "output_type": "execute_result"
    }
   ],
   "source": [
    "a.text.strip()"
   ]
  },
  {
   "cell_type": "code",
   "execution_count": 25,
   "metadata": {},
   "outputs": [
    {
     "data": {
      "text/plain": [
       "<div class=\"user_review\" style=\"display:inline-block; width:100%\"> <div class=\"scoreWrapper\"><span class=\"05\"></span></div> this film was pathetic, boring , is much to long,I sleep when Rose want jump the boards. The music is verybad because Céline Dion sings badly. Léonardo Di Caprio is ugly,he act badly, he don't want with Rose. I was angry because it was a bad film.</div>"
      ]
     },
     "execution_count": 25,
     "metadata": {},
     "output_type": "execute_result"
    }
   ],
   "source": [
    "a"
   ]
  },
  {
   "cell_type": "code",
   "execution_count": 31,
   "metadata": {},
   "outputs": [
    {
     "data": {
      "text/plain": [
       "<div class=\"user_review\" style=\"display:inline-block; width:100%\"> <div class=\"scoreWrapper\"><span class=\"50\"></span></div> Titanic is the most beautiful movie I have ever seen! This movie is powerful, sad, lovely, with innovation, it's intense.<br/>this movie is realy perfect!<br/>And the moviemaker, James Cameron was done an amazing work.<br/>The Celin Dion's song is beautiful, powerful moving. The actors are amazing too, they playing very well. Leonardo is very very beautiful. <br/>The end is horrible, sad, heartbreaking. But this movie is to long.</div>"
      ]
     },
     "execution_count": 31,
     "metadata": {},
     "output_type": "execute_result"
    }
   ],
   "source": [
    "c.findNext('div', {'class': 'user_review'})"
   ]
  },
  {
   "cell_type": "code",
   "execution_count": null,
   "metadata": {},
   "outputs": [],
   "source": []
  }
 ],
 "metadata": {
  "kernelspec": {
   "display_name": "Python [conda env:py36]",
   "language": "python",
   "name": "conda-env-py36-py"
  },
  "language_info": {
   "codemirror_mode": {
    "name": "ipython",
    "version": 3
   },
   "file_extension": ".py",
   "mimetype": "text/x-python",
   "name": "python",
   "nbconvert_exporter": "python",
   "pygments_lexer": "ipython3",
   "version": "3.6.6"
  }
 },
 "nbformat": 4,
 "nbformat_minor": 2
}
