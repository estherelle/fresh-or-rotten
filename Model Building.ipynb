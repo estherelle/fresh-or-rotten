{
 "cells": [
  {
   "cell_type": "code",
   "execution_count": 1,
   "metadata": {},
   "outputs": [],
   "source": [
    "import json\n",
    "import pandas as pd"
   ]
  },
  {
   "cell_type": "code",
   "execution_count": 2,
   "metadata": {},
   "outputs": [],
   "source": [
    "with open('movies_ten.json') as f:\n",
    "    data = json.load(f)"
   ]
  },
  {
   "cell_type": "code",
   "execution_count": 33,
   "metadata": {},
   "outputs": [],
   "source": [
    "data[0];"
   ]
  },
  {
   "cell_type": "code",
   "execution_count": 4,
   "metadata": {},
   "outputs": [
    {
     "data": {
      "text/plain": [
       "[u'Quartile', u'Url', u'Tomatometer', u'Title', u'Audience Rating', u'Reviews']"
      ]
     },
     "execution_count": 4,
     "metadata": {},
     "output_type": "execute_result"
    }
   ],
   "source": [
    "data[0].keys()"
   ]
  },
  {
   "cell_type": "code",
   "execution_count": 5,
   "metadata": {},
   "outputs": [],
   "source": [
    "# df = pd.DataFrame(columns=data[0].keys())\n",
    "\n",
    "# list_movies = [data[i].values() for i in range(len(data))]\n",
    "\n",
    "# df = pd.DataFrame(list_movies, columns=data[0].keys())"
   ]
  },
  {
   "cell_type": "code",
   "execution_count": 60,
   "metadata": {},
   "outputs": [],
   "source": [
    "df = pd.DataFrame(data)"
   ]
  },
  {
   "cell_type": "code",
   "execution_count": 68,
   "metadata": {},
   "outputs": [
    {
     "data": {
      "text/html": [
       "<div>\n",
       "<style>\n",
       "    .dataframe thead tr:only-child th {\n",
       "        text-align: right;\n",
       "    }\n",
       "\n",
       "    .dataframe thead th {\n",
       "        text-align: left;\n",
       "    }\n",
       "\n",
       "    .dataframe tbody tr th {\n",
       "        vertical-align: top;\n",
       "    }\n",
       "</style>\n",
       "<table border=\"1\" class=\"dataframe\">\n",
       "  <thead>\n",
       "    <tr style=\"text-align: right;\">\n",
       "      <th></th>\n",
       "      <th>Audience Rating</th>\n",
       "      <th>Reviews</th>\n",
       "      <th>Title</th>\n",
       "      <th>Tomatometer</th>\n",
       "      <th>Url</th>\n",
       "      <th>0 - 25</th>\n",
       "      <th>26 - 50</th>\n",
       "      <th>51 - 75</th>\n",
       "      <th>76 - 100</th>\n",
       "    </tr>\n",
       "  </thead>\n",
       "  <tbody>\n",
       "    <tr>\n",
       "      <th>0</th>\n",
       "      <td>98%</td>\n",
       "      <td>[This film was great., My all-time favourite m...</td>\n",
       "      <td>The Godfather</td>\n",
       "      <td>98%</td>\n",
       "      <td>https://www.rottentomatoes.com/m/godfather</td>\n",
       "      <td>0</td>\n",
       "      <td>0</td>\n",
       "      <td>0</td>\n",
       "      <td>1</td>\n",
       "    </tr>\n",
       "    <tr>\n",
       "      <th>1</th>\n",
       "      <td>95%</td>\n",
       "      <td>[Easily the best Christmas movie of all time. ...</td>\n",
       "      <td>It’s a Wonderful Life</td>\n",
       "      <td>93%</td>\n",
       "      <td>https://www.rottentomatoes.com/m/its_a_wonderf...</td>\n",
       "      <td>0</td>\n",
       "      <td>0</td>\n",
       "      <td>0</td>\n",
       "      <td>1</td>\n",
       "    </tr>\n",
       "    <tr>\n",
       "      <th>2</th>\n",
       "      <td>95%</td>\n",
       "      <td>[ONCE UPON A TIME IN THE WEST is a grand, poig...</td>\n",
       "      <td>Once Upon A Time In The West</td>\n",
       "      <td>98%</td>\n",
       "      <td>https://www.rottentomatoes.com/m/once_upon_a_t...</td>\n",
       "      <td>0</td>\n",
       "      <td>0</td>\n",
       "      <td>0</td>\n",
       "      <td>1</td>\n",
       "    </tr>\n",
       "    <tr>\n",
       "      <th>3</th>\n",
       "      <td>95%</td>\n",
       "      <td>[Easily one of the best movies of all time. Fr...</td>\n",
       "      <td>Forrest Gump</td>\n",
       "      <td>73%</td>\n",
       "      <td>https://www.rottentomatoes.com/m/forrest_gump</td>\n",
       "      <td>0</td>\n",
       "      <td>0</td>\n",
       "      <td>0</td>\n",
       "      <td>1</td>\n",
       "    </tr>\n",
       "    <tr>\n",
       "      <th>4</th>\n",
       "      <td>95%</td>\n",
       "      <td>[I was blown away by Amelie even though there ...</td>\n",
       "      <td>Amélie</td>\n",
       "      <td>89%</td>\n",
       "      <td>https://www.rottentomatoes.com/m/amelie</td>\n",
       "      <td>0</td>\n",
       "      <td>0</td>\n",
       "      <td>0</td>\n",
       "      <td>1</td>\n",
       "    </tr>\n",
       "  </tbody>\n",
       "</table>\n",
       "</div>"
      ],
      "text/plain": [
       "  Audience Rating                                            Reviews  \\\n",
       "0             98%  [This film was great., My all-time favourite m...   \n",
       "1             95%  [Easily the best Christmas movie of all time. ...   \n",
       "2             95%  [ONCE UPON A TIME IN THE WEST is a grand, poig...   \n",
       "3             95%  [Easily one of the best movies of all time. Fr...   \n",
       "4             95%  [I was blown away by Amelie even though there ...   \n",
       "\n",
       "                           Title Tomatometer  \\\n",
       "0                  The Godfather         98%   \n",
       "1          It’s a Wonderful Life         93%   \n",
       "2  Once Upon A Time In The West          98%   \n",
       "3                   Forrest Gump         73%   \n",
       "4                         Amélie         89%   \n",
       "\n",
       "                                                 Url  0 - 25  26 - 50  \\\n",
       "0         https://www.rottentomatoes.com/m/godfather       0        0   \n",
       "1  https://www.rottentomatoes.com/m/its_a_wonderf...       0        0   \n",
       "2  https://www.rottentomatoes.com/m/once_upon_a_t...       0        0   \n",
       "3      https://www.rottentomatoes.com/m/forrest_gump       0        0   \n",
       "4            https://www.rottentomatoes.com/m/amelie       0        0   \n",
       "\n",
       "   51 - 75  76 - 100  \n",
       "0        0         1  \n",
       "1        0         1  \n",
       "2        0         1  \n",
       "3        0         1  \n",
       "4        0         1  "
      ]
     },
     "execution_count": 68,
     "metadata": {},
     "output_type": "execute_result"
    }
   ],
   "source": [
    "ohe.head()"
   ]
  },
  {
   "cell_type": "code",
   "execution_count": 54,
   "metadata": {},
   "outputs": [],
   "source": [
    "# a = ''.join(ohe.iloc[0]['Reviews'])\n",
    "\n",
    "# ohe.loc[0, 'Reviews'] = a"
   ]
  },
  {
   "cell_type": "code",
   "execution_count": 78,
   "metadata": {},
   "outputs": [
    {
     "data": {
      "text/html": [
       "<div>\n",
       "<style>\n",
       "    .dataframe thead tr:only-child th {\n",
       "        text-align: right;\n",
       "    }\n",
       "\n",
       "    .dataframe thead th {\n",
       "        text-align: left;\n",
       "    }\n",
       "\n",
       "    .dataframe tbody tr th {\n",
       "        vertical-align: top;\n",
       "    }\n",
       "</style>\n",
       "<table border=\"1\" class=\"dataframe\">\n",
       "  <thead>\n",
       "    <tr style=\"text-align: right;\">\n",
       "      <th></th>\n",
       "      <th>Audience Rating</th>\n",
       "      <th>Reviews</th>\n",
       "      <th>Title</th>\n",
       "      <th>Tomatometer</th>\n",
       "      <th>Url</th>\n",
       "      <th>0 - 25</th>\n",
       "      <th>26 - 50</th>\n",
       "      <th>51 - 75</th>\n",
       "      <th>76 - 100</th>\n",
       "      <th>review_text</th>\n",
       "    </tr>\n",
       "  </thead>\n",
       "  <tbody>\n",
       "    <tr>\n",
       "      <th>0</th>\n",
       "      <td>98%</td>\n",
       "      <td>[This film was great., My all-time favourite m...</td>\n",
       "      <td>The Godfather</td>\n",
       "      <td>98%</td>\n",
       "      <td>https://www.rottentomatoes.com/m/godfather</td>\n",
       "      <td>0</td>\n",
       "      <td>0</td>\n",
       "      <td>0</td>\n",
       "      <td>1</td>\n",
       "      <td>this film was great.my all-time favourite movi...</td>\n",
       "    </tr>\n",
       "    <tr>\n",
       "      <th>1</th>\n",
       "      <td>95%</td>\n",
       "      <td>[Easily the best Christmas movie of all time. ...</td>\n",
       "      <td>It’s a Wonderful Life</td>\n",
       "      <td>93%</td>\n",
       "      <td>https://www.rottentomatoes.com/m/its_a_wonderf...</td>\n",
       "      <td>0</td>\n",
       "      <td>0</td>\n",
       "      <td>0</td>\n",
       "      <td>1</td>\n",
       "      <td>easily the best christmas movie of all time. i...</td>\n",
       "    </tr>\n",
       "    <tr>\n",
       "      <th>2</th>\n",
       "      <td>95%</td>\n",
       "      <td>[ONCE UPON A TIME IN THE WEST is a grand, poig...</td>\n",
       "      <td>Once Upon A Time In The West</td>\n",
       "      <td>98%</td>\n",
       "      <td>https://www.rottentomatoes.com/m/once_upon_a_t...</td>\n",
       "      <td>0</td>\n",
       "      <td>0</td>\n",
       "      <td>0</td>\n",
       "      <td>1</td>\n",
       "      <td>once upon a time in the west is a grand, poign...</td>\n",
       "    </tr>\n",
       "    <tr>\n",
       "      <th>3</th>\n",
       "      <td>95%</td>\n",
       "      <td>[Easily one of the best movies of all time. Fr...</td>\n",
       "      <td>Forrest Gump</td>\n",
       "      <td>73%</td>\n",
       "      <td>https://www.rottentomatoes.com/m/forrest_gump</td>\n",
       "      <td>0</td>\n",
       "      <td>0</td>\n",
       "      <td>0</td>\n",
       "      <td>1</td>\n",
       "      <td>easily one of the best movies of all time. fro...</td>\n",
       "    </tr>\n",
       "    <tr>\n",
       "      <th>4</th>\n",
       "      <td>95%</td>\n",
       "      <td>[I was blown away by Amelie even though there ...</td>\n",
       "      <td>Amélie</td>\n",
       "      <td>89%</td>\n",
       "      <td>https://www.rottentomatoes.com/m/amelie</td>\n",
       "      <td>0</td>\n",
       "      <td>0</td>\n",
       "      <td>0</td>\n",
       "      <td>1</td>\n",
       "      <td>i was blown away by amelie even though there w...</td>\n",
       "    </tr>\n",
       "  </tbody>\n",
       "</table>\n",
       "</div>"
      ],
      "text/plain": [
       "  Audience Rating                                            Reviews  \\\n",
       "0             98%  [This film was great., My all-time favourite m...   \n",
       "1             95%  [Easily the best Christmas movie of all time. ...   \n",
       "2             95%  [ONCE UPON A TIME IN THE WEST is a grand, poig...   \n",
       "3             95%  [Easily one of the best movies of all time. Fr...   \n",
       "4             95%  [I was blown away by Amelie even though there ...   \n",
       "\n",
       "                           Title Tomatometer  \\\n",
       "0                  The Godfather         98%   \n",
       "1          It’s a Wonderful Life         93%   \n",
       "2  Once Upon A Time In The West          98%   \n",
       "3                   Forrest Gump         73%   \n",
       "4                         Amélie         89%   \n",
       "\n",
       "                                                 Url  0 - 25  26 - 50  \\\n",
       "0         https://www.rottentomatoes.com/m/godfather       0        0   \n",
       "1  https://www.rottentomatoes.com/m/its_a_wonderf...       0        0   \n",
       "2  https://www.rottentomatoes.com/m/once_upon_a_t...       0        0   \n",
       "3      https://www.rottentomatoes.com/m/forrest_gump       0        0   \n",
       "4            https://www.rottentomatoes.com/m/amelie       0        0   \n",
       "\n",
       "   51 - 75  76 - 100                                        review_text  \n",
       "0        0         1  this film was great.my all-time favourite movi...  \n",
       "1        0         1  easily the best christmas movie of all time. i...  \n",
       "2        0         1  once upon a time in the west is a grand, poign...  \n",
       "3        0         1  easily one of the best movies of all time. fro...  \n",
       "4        0         1  i was blown away by amelie even though there w...  "
      ]
     },
     "execution_count": 78,
     "metadata": {},
     "output_type": "execute_result"
    }
   ],
   "source": [
    "ohe.head()"
   ]
  },
  {
   "cell_type": "code",
   "execution_count": 87,
   "metadata": {},
   "outputs": [],
   "source": [
    "from nltk.corpus import stopwords\n",
    "from textblob import TextBlob\n",
    "stop = stopwords.words('english')"
   ]
  },
  {
   "cell_type": "code",
   "execution_count": 114,
   "metadata": {},
   "outputs": [],
   "source": [
    "ohe = df\n",
    "ohe = pd.concat([df.drop('Quartile', axis=1), pd.get_dummies(df['Quartile'])], axis=1)\n",
    "\n",
    "ohe = ohe.drop(125)\n",
    "\n",
    "# Join the separate reviews with a space\n",
    "ohe['review_text'] = ohe['Reviews'].apply(lambda x: \" \".join(x))\n",
    "\n",
    "# turn it all to lower case\n",
    "ohe['review_text'] = ohe['review_text'].apply(lambda x: \" \".join(x.lower() for x in x.split()))\n",
    "\n",
    "# replace punctuation with nothing\n",
    "ohe['review_text'] = ohe['review_text'].str.replace('[^\\w\\s]', '')\n",
    "\n",
    "# remove stop words\n",
    "ohe['review_text'] = ohe['review_text'].apply(lambda x: \" \".join(x for x in x.split() if x not in stop))\n",
    "\n",
    "# get top 10 most rare words\n",
    "rare = pd.Series(' '.join(ohe['review_text']).split()).value_counts()[-10:]\n",
    "\n",
    "# remove top 10 most rare words\n",
    "ohe['review_text'] = ohe['review_text'].apply(lambda x: \" \".join(x for x in x.split() if x not in rare))\n",
    "\n",
    "# convert ratings so that they are now numeric words\n",
    "ohe['Audience Rating'] = ohe['Audience Rating'].apply(lambda x: int(x.split(\"%\")[0]))\n",
    "\n",
    "ohe['Tomatometer'] = ohe['Tomatometer'].apply(lambda x: int(x.split(\"%\")[0]))"
   ]
  },
  {
   "cell_type": "code",
   "execution_count": 123,
   "metadata": {},
   "outputs": [
    {
     "data": {
      "text/html": [
       "<div>\n",
       "<style>\n",
       "    .dataframe thead tr:only-child th {\n",
       "        text-align: right;\n",
       "    }\n",
       "\n",
       "    .dataframe thead th {\n",
       "        text-align: left;\n",
       "    }\n",
       "\n",
       "    .dataframe tbody tr th {\n",
       "        vertical-align: top;\n",
       "    }\n",
       "</style>\n",
       "<table border=\"1\" class=\"dataframe\">\n",
       "  <thead>\n",
       "    <tr style=\"text-align: right;\">\n",
       "      <th></th>\n",
       "      <th>Audience Rating</th>\n",
       "      <th>Reviews</th>\n",
       "      <th>Title</th>\n",
       "      <th>Tomatometer</th>\n",
       "      <th>Url</th>\n",
       "      <th>0 - 25</th>\n",
       "      <th>26 - 50</th>\n",
       "      <th>51 - 75</th>\n",
       "      <th>76 - 100</th>\n",
       "      <th>review_text</th>\n",
       "    </tr>\n",
       "  </thead>\n",
       "  <tbody>\n",
       "    <tr>\n",
       "      <th>0</th>\n",
       "      <td>98</td>\n",
       "      <td>[This film was great., My all-time favourite m...</td>\n",
       "      <td>The Godfather</td>\n",
       "      <td>98</td>\n",
       "      <td>https://www.rottentomatoes.com/m/godfather</td>\n",
       "      <td>0</td>\n",
       "      <td>0</td>\n",
       "      <td>0</td>\n",
       "      <td>1</td>\n",
       "      <td>film great alltime favourite movie intense loo...</td>\n",
       "    </tr>\n",
       "    <tr>\n",
       "      <th>1</th>\n",
       "      <td>95</td>\n",
       "      <td>[Easily the best Christmas movie of all time. ...</td>\n",
       "      <td>It’s a Wonderful Life</td>\n",
       "      <td>93</td>\n",
       "      <td>https://www.rottentomatoes.com/m/its_a_wonderf...</td>\n",
       "      <td>0</td>\n",
       "      <td>0</td>\n",
       "      <td>0</td>\n",
       "      <td>1</td>\n",
       "      <td>easily best christmas movie time movie watch c...</td>\n",
       "    </tr>\n",
       "    <tr>\n",
       "      <th>2</th>\n",
       "      <td>95</td>\n",
       "      <td>[ONCE UPON A TIME IN THE WEST is a grand, poig...</td>\n",
       "      <td>Once Upon A Time In The West</td>\n",
       "      <td>98</td>\n",
       "      <td>https://www.rottentomatoes.com/m/once_upon_a_t...</td>\n",
       "      <td>0</td>\n",
       "      <td>0</td>\n",
       "      <td>0</td>\n",
       "      <td>1</td>\n",
       "      <td>upon time west grand poignant gloriously epic ...</td>\n",
       "    </tr>\n",
       "    <tr>\n",
       "      <th>3</th>\n",
       "      <td>95</td>\n",
       "      <td>[Easily one of the best movies of all time. Fr...</td>\n",
       "      <td>Forrest Gump</td>\n",
       "      <td>73</td>\n",
       "      <td>https://www.rottentomatoes.com/m/forrest_gump</td>\n",
       "      <td>0</td>\n",
       "      <td>0</td>\n",
       "      <td>0</td>\n",
       "      <td>1</td>\n",
       "      <td>easily one best movies time brilliant cast pow...</td>\n",
       "    </tr>\n",
       "    <tr>\n",
       "      <th>4</th>\n",
       "      <td>95</td>\n",
       "      <td>[I was blown away by Amelie even though there ...</td>\n",
       "      <td>Amélie</td>\n",
       "      <td>89</td>\n",
       "      <td>https://www.rottentomatoes.com/m/amelie</td>\n",
       "      <td>0</td>\n",
       "      <td>0</td>\n",
       "      <td>0</td>\n",
       "      <td>1</td>\n",
       "      <td>blown away amelie even though substantial hype...</td>\n",
       "    </tr>\n",
       "  </tbody>\n",
       "</table>\n",
       "</div>"
      ],
      "text/plain": [
       "   Audience Rating                                            Reviews  \\\n",
       "0               98  [This film was great., My all-time favourite m...   \n",
       "1               95  [Easily the best Christmas movie of all time. ...   \n",
       "2               95  [ONCE UPON A TIME IN THE WEST is a grand, poig...   \n",
       "3               95  [Easily one of the best movies of all time. Fr...   \n",
       "4               95  [I was blown away by Amelie even though there ...   \n",
       "\n",
       "                           Title  Tomatometer  \\\n",
       "0                  The Godfather           98   \n",
       "1          It’s a Wonderful Life           93   \n",
       "2  Once Upon A Time In The West            98   \n",
       "3                   Forrest Gump           73   \n",
       "4                         Amélie           89   \n",
       "\n",
       "                                                 Url  0 - 25  26 - 50  \\\n",
       "0         https://www.rottentomatoes.com/m/godfather       0        0   \n",
       "1  https://www.rottentomatoes.com/m/its_a_wonderf...       0        0   \n",
       "2  https://www.rottentomatoes.com/m/once_upon_a_t...       0        0   \n",
       "3      https://www.rottentomatoes.com/m/forrest_gump       0        0   \n",
       "4            https://www.rottentomatoes.com/m/amelie       0        0   \n",
       "\n",
       "   51 - 75  76 - 100                                        review_text  \n",
       "0        0         1  film great alltime favourite movie intense loo...  \n",
       "1        0         1  easily best christmas movie time movie watch c...  \n",
       "2        0         1  upon time west grand poignant gloriously epic ...  \n",
       "3        0         1  easily one best movies time brilliant cast pow...  \n",
       "4        0         1  blown away amelie even though substantial hype...  "
      ]
     },
     "execution_count": 123,
     "metadata": {},
     "output_type": "execute_result"
    }
   ],
   "source": [
    "ohe.head()"
   ]
  },
  {
   "cell_type": "code",
   "execution_count": 95,
   "metadata": {},
   "outputs": [],
   "source": [
    "# get top 10 most common words\n",
    "# freq = pd.Series(' '.join(ohe['review_text']).split()).value_counts()[:10]\n",
    "\n",
    "# remove top 10 most common words\n",
    "# ohe['review_text'] = ohe['review_text'].apply(lambda x: \" \".join(x for x in x.split() if x not in freq))"
   ]
  },
  {
   "cell_type": "code",
   "execution_count": 129,
   "metadata": {},
   "outputs": [],
   "source": [
    "from sklearn.feature_extraction.text import CountVectorizer\n",
    "from sklearn.model_selection import train_test_split  \n",
    "from sklearn.preprocessing import LabelEncoder, OneHotEncoder\n",
    "from sklearn.metrics import accuracy_score\n",
    "from sklearn.ensemble import RandomForestClassifier\n",
    "from sklearn.svm import SVC  "
   ]
  },
  {
   "cell_type": "code",
   "execution_count": 109,
   "metadata": {},
   "outputs": [],
   "source": [
    "# construct bag of words matrix\n",
    "bow = CountVectorizer(max_features=1000, lowercase=True, ngram_range=(1,1),analyzer = \"word\")"
   ]
  },
  {
   "cell_type": "code",
   "execution_count": 131,
   "metadata": {},
   "outputs": [
    {
     "data": {
      "text/plain": [
       "CountVectorizer(analyzer='word', binary=False, decode_error=u'strict',\n",
       "        dtype=<type 'numpy.int64'>, encoding=u'utf-8', input=u'content',\n",
       "        lowercase=True, max_df=1.0, max_features=1000, min_df=1,\n",
       "        ngram_range=(1, 1), preprocessor=None, stop_words=None,\n",
       "        strip_accents=None, token_pattern=u'(?u)\\\\b\\\\w\\\\w+\\\\b',\n",
       "        tokenizer=None, vocabulary=None)"
      ]
     },
     "execution_count": 131,
     "metadata": {},
     "output_type": "execute_result"
    }
   ],
   "source": [
    "bow"
   ]
  },
  {
   "cell_type": "code",
   "execution_count": 124,
   "metadata": {},
   "outputs": [],
   "source": [
    "def split_df(df, test_size=0.20):\n",
    "    y = df['Audience Rating']\n",
    "    x = df.drop('Audience Rating', axis = 1)\n",
    "    X_train, X_test, y_train, y_test = train_test_split(x, y, test_size = test_size) \n",
    "    return X_train, X_test, y_train, y_test"
   ]
  },
  {
   "cell_type": "code",
   "execution_count": 125,
   "metadata": {},
   "outputs": [],
   "source": [
    "X_train, X_test, y_train, y_test = split_df(ohe)"
   ]
  },
  {
   "cell_type": "code",
   "execution_count": 126,
   "metadata": {},
   "outputs": [],
   "source": [
    "def run_svc(df, kernel='linear'):\n",
    "    X_train, X_test, y_train, y_test = split_df(df)\n",
    "    svclassifier = SVC(kernel=kernel) \n",
    "    svclassifier.fit(X_train, y_train) \n",
    "    y_pred = svclassifier.predict(X_test)\n",
    "    print(\"%.4f%%\" %(accuracy_score(y_test, y_pred) * 100))"
   ]
  },
  {
   "cell_type": "code",
   "execution_count": 127,
   "metadata": {},
   "outputs": [],
   "source": [
    "def run_rtree(df, enc=False):\n",
    "    X_train, X_test, y_train, y_test = split_df(df, enc)\n",
    "    clf = RandomForestClassifier()\n",
    "    clf.fit(X_train, y_train)\n",
    "    y_pred = clf.predict(X_test)\n",
    "    print(\"%.4f%%\" %(accuracy_score(y_test, y_pred) * 100)) \n",
    "    return clf"
   ]
  },
  {
   "cell_type": "code",
   "execution_count": 130,
   "metadata": {},
   "outputs": [
    {
     "ename": "ValueError",
     "evalue": "could not convert string to float: film one favourites teenager brings really good memories past life used simple film firendship growing amazing movie literally one favorites growing enjoyed watching coming age movie girls refreshing ",
     "output_type": "error",
     "traceback": [
      "\u001b[0;31m---------------------------------------------------------------------------\u001b[0m",
      "\u001b[0;31mValueError\u001b[0m                                Traceback (most recent call last)",
      "\u001b[0;32m<ipython-input-130-13dfc5212b90>\u001b[0m in \u001b[0;36m<module>\u001b[0;34m()\u001b[0m\n\u001b[0;32m----> 1\u001b[0;31m \u001b[0mrun_svc\u001b[0m\u001b[0;34m(\u001b[0m\u001b[0mohe\u001b[0m\u001b[0;34m)\u001b[0m\u001b[0;34m\u001b[0m\u001b[0m\n\u001b[0m",
      "\u001b[0;32m<ipython-input-126-6958a3970d75>\u001b[0m in \u001b[0;36mrun_svc\u001b[0;34m(df, kernel)\u001b[0m\n\u001b[1;32m      2\u001b[0m     \u001b[0mX_train\u001b[0m\u001b[0;34m,\u001b[0m \u001b[0mX_test\u001b[0m\u001b[0;34m,\u001b[0m \u001b[0my_train\u001b[0m\u001b[0;34m,\u001b[0m \u001b[0my_test\u001b[0m \u001b[0;34m=\u001b[0m \u001b[0msplit_df\u001b[0m\u001b[0;34m(\u001b[0m\u001b[0mdf\u001b[0m\u001b[0;34m)\u001b[0m\u001b[0;34m\u001b[0m\u001b[0m\n\u001b[1;32m      3\u001b[0m     \u001b[0msvclassifier\u001b[0m \u001b[0;34m=\u001b[0m \u001b[0mSVC\u001b[0m\u001b[0;34m(\u001b[0m\u001b[0mkernel\u001b[0m\u001b[0;34m=\u001b[0m\u001b[0mkernel\u001b[0m\u001b[0;34m)\u001b[0m\u001b[0;34m\u001b[0m\u001b[0m\n\u001b[0;32m----> 4\u001b[0;31m     \u001b[0msvclassifier\u001b[0m\u001b[0;34m.\u001b[0m\u001b[0mfit\u001b[0m\u001b[0;34m(\u001b[0m\u001b[0mX_train\u001b[0m\u001b[0;34m,\u001b[0m \u001b[0my_train\u001b[0m\u001b[0;34m)\u001b[0m\u001b[0;34m\u001b[0m\u001b[0m\n\u001b[0m\u001b[1;32m      5\u001b[0m     \u001b[0my_pred\u001b[0m \u001b[0;34m=\u001b[0m \u001b[0msvclassifier\u001b[0m\u001b[0;34m.\u001b[0m\u001b[0mpredict\u001b[0m\u001b[0;34m(\u001b[0m\u001b[0mX_test\u001b[0m\u001b[0;34m)\u001b[0m\u001b[0;34m\u001b[0m\u001b[0m\n\u001b[1;32m      6\u001b[0m     \u001b[0;32mprint\u001b[0m\u001b[0;34m(\u001b[0m\u001b[0;34m\"%.4f%%\"\u001b[0m \u001b[0;34m%\u001b[0m\u001b[0;34m(\u001b[0m\u001b[0maccuracy_score\u001b[0m\u001b[0;34m(\u001b[0m\u001b[0my_test\u001b[0m\u001b[0;34m,\u001b[0m \u001b[0my_pred\u001b[0m\u001b[0;34m)\u001b[0m \u001b[0;34m*\u001b[0m \u001b[0;36m100\u001b[0m\u001b[0;34m)\u001b[0m\u001b[0;34m)\u001b[0m\u001b[0;34m\u001b[0m\u001b[0m\n",
      "\u001b[0;32m/Users/Esther/miniconda2/envs/ds/lib/python2.7/site-packages/sklearn/svm/base.pyc\u001b[0m in \u001b[0;36mfit\u001b[0;34m(self, X, y, sample_weight)\u001b[0m\n\u001b[1;32m    147\u001b[0m         \u001b[0mself\u001b[0m\u001b[0;34m.\u001b[0m\u001b[0m_sparse\u001b[0m \u001b[0;34m=\u001b[0m \u001b[0msparse\u001b[0m \u001b[0;32mand\u001b[0m \u001b[0;32mnot\u001b[0m \u001b[0mcallable\u001b[0m\u001b[0;34m(\u001b[0m\u001b[0mself\u001b[0m\u001b[0;34m.\u001b[0m\u001b[0mkernel\u001b[0m\u001b[0;34m)\u001b[0m\u001b[0;34m\u001b[0m\u001b[0m\n\u001b[1;32m    148\u001b[0m \u001b[0;34m\u001b[0m\u001b[0m\n\u001b[0;32m--> 149\u001b[0;31m         \u001b[0mX\u001b[0m\u001b[0;34m,\u001b[0m \u001b[0my\u001b[0m \u001b[0;34m=\u001b[0m \u001b[0mcheck_X_y\u001b[0m\u001b[0;34m(\u001b[0m\u001b[0mX\u001b[0m\u001b[0;34m,\u001b[0m \u001b[0my\u001b[0m\u001b[0;34m,\u001b[0m \u001b[0mdtype\u001b[0m\u001b[0;34m=\u001b[0m\u001b[0mnp\u001b[0m\u001b[0;34m.\u001b[0m\u001b[0mfloat64\u001b[0m\u001b[0;34m,\u001b[0m \u001b[0morder\u001b[0m\u001b[0;34m=\u001b[0m\u001b[0;34m'C'\u001b[0m\u001b[0;34m,\u001b[0m \u001b[0maccept_sparse\u001b[0m\u001b[0;34m=\u001b[0m\u001b[0;34m'csr'\u001b[0m\u001b[0;34m)\u001b[0m\u001b[0;34m\u001b[0m\u001b[0m\n\u001b[0m\u001b[1;32m    150\u001b[0m         \u001b[0my\u001b[0m \u001b[0;34m=\u001b[0m \u001b[0mself\u001b[0m\u001b[0;34m.\u001b[0m\u001b[0m_validate_targets\u001b[0m\u001b[0;34m(\u001b[0m\u001b[0my\u001b[0m\u001b[0;34m)\u001b[0m\u001b[0;34m\u001b[0m\u001b[0m\n\u001b[1;32m    151\u001b[0m \u001b[0;34m\u001b[0m\u001b[0m\n",
      "\u001b[0;32m/Users/Esther/miniconda2/envs/ds/lib/python2.7/site-packages/sklearn/utils/validation.pyc\u001b[0m in \u001b[0;36mcheck_X_y\u001b[0;34m(X, y, accept_sparse, dtype, order, copy, force_all_finite, ensure_2d, allow_nd, multi_output, ensure_min_samples, ensure_min_features, y_numeric, warn_on_dtype, estimator)\u001b[0m\n\u001b[1;32m    571\u001b[0m     X = check_array(X, accept_sparse, dtype, order, copy, force_all_finite,\n\u001b[1;32m    572\u001b[0m                     \u001b[0mensure_2d\u001b[0m\u001b[0;34m,\u001b[0m \u001b[0mallow_nd\u001b[0m\u001b[0;34m,\u001b[0m \u001b[0mensure_min_samples\u001b[0m\u001b[0;34m,\u001b[0m\u001b[0;34m\u001b[0m\u001b[0m\n\u001b[0;32m--> 573\u001b[0;31m                     ensure_min_features, warn_on_dtype, estimator)\n\u001b[0m\u001b[1;32m    574\u001b[0m     \u001b[0;32mif\u001b[0m \u001b[0mmulti_output\u001b[0m\u001b[0;34m:\u001b[0m\u001b[0;34m\u001b[0m\u001b[0m\n\u001b[1;32m    575\u001b[0m         y = check_array(y, 'csr', force_all_finite=True, ensure_2d=False,\n",
      "\u001b[0;32m/Users/Esther/miniconda2/envs/ds/lib/python2.7/site-packages/sklearn/utils/validation.pyc\u001b[0m in \u001b[0;36mcheck_array\u001b[0;34m(array, accept_sparse, dtype, order, copy, force_all_finite, ensure_2d, allow_nd, ensure_min_samples, ensure_min_features, warn_on_dtype, estimator)\u001b[0m\n\u001b[1;32m    431\u001b[0m                                       force_all_finite)\n\u001b[1;32m    432\u001b[0m     \u001b[0;32melse\u001b[0m\u001b[0;34m:\u001b[0m\u001b[0;34m\u001b[0m\u001b[0m\n\u001b[0;32m--> 433\u001b[0;31m         \u001b[0marray\u001b[0m \u001b[0;34m=\u001b[0m \u001b[0mnp\u001b[0m\u001b[0;34m.\u001b[0m\u001b[0marray\u001b[0m\u001b[0;34m(\u001b[0m\u001b[0marray\u001b[0m\u001b[0;34m,\u001b[0m \u001b[0mdtype\u001b[0m\u001b[0;34m=\u001b[0m\u001b[0mdtype\u001b[0m\u001b[0;34m,\u001b[0m \u001b[0morder\u001b[0m\u001b[0;34m=\u001b[0m\u001b[0morder\u001b[0m\u001b[0;34m,\u001b[0m \u001b[0mcopy\u001b[0m\u001b[0;34m=\u001b[0m\u001b[0mcopy\u001b[0m\u001b[0;34m)\u001b[0m\u001b[0;34m\u001b[0m\u001b[0m\n\u001b[0m\u001b[1;32m    434\u001b[0m \u001b[0;34m\u001b[0m\u001b[0m\n\u001b[1;32m    435\u001b[0m         \u001b[0;32mif\u001b[0m \u001b[0mensure_2d\u001b[0m\u001b[0;34m:\u001b[0m\u001b[0;34m\u001b[0m\u001b[0m\n",
      "\u001b[0;31mValueError\u001b[0m: could not convert string to float: film one favourites teenager brings really good memories past life used simple film firendship growing amazing movie literally one favorites growing enjoyed watching coming age movie girls refreshing "
     ]
    }
   ],
   "source": [
    "run_svc(ohe)"
   ]
  },
  {
   "cell_type": "code",
   "execution_count": null,
   "metadata": {},
   "outputs": [],
   "source": []
  }
 ],
 "metadata": {
  "kernelspec": {
   "display_name": "Python [conda env:ds]",
   "language": "python",
   "name": "conda-env-ds-py"
  },
  "language_info": {
   "codemirror_mode": {
    "name": "ipython",
    "version": 2
   },
   "file_extension": ".py",
   "mimetype": "text/x-python",
   "name": "python",
   "nbconvert_exporter": "python",
   "pygments_lexer": "ipython2",
   "version": "2.7.15"
  }
 },
 "nbformat": 4,
 "nbformat_minor": 2
}
